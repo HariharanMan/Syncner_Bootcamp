{
 "cells": [
  {
   "cell_type": "code",
   "execution_count": 38,
   "id": "fdb90ff3-3ad3-4da2-b6c7-9ad95392bcaa",
   "metadata": {},
   "outputs": [
    {
     "name": "stdout",
     "output_type": "stream",
     "text": [
      "Jimmy\n",
      "3\n",
      "Dog is barking\n",
      "Dog is sleeping\n"
     ]
    }
   ],
   "source": [
    "class Dog:\n",
    "    \n",
    "    def __init__(self,name,age):\n",
    "        self.name=name\n",
    "        self.age=age\n",
    "    \n",
    "    def bark(self):\n",
    "        return \"Dog is barking\"\n",
    "    def sleep(self):\n",
    "        return \"Dog is sleeping\"\n",
    "\n",
    "d1=Dog(\"Jimmy\",3)\n",
    "print(d1.name)\n",
    "print(d1.age)\n",
    "print(d1.bark())\n",
    "print(d1.sleep())\n",
    "    "
   ]
  },
  {
   "cell_type": "code",
   "execution_count": 24,
   "id": "82cc351c-5a0b-4db1-bb86-0a869ffa357c",
   "metadata": {},
   "outputs": [
    {
     "name": "stdout",
     "output_type": "stream",
     "text": [
      "Jacky\n",
      "3\n",
      "country\n",
      "Dog is barking\n",
      "Dog is sleeping\n"
     ]
    }
   ],
   "source": [
    "class Dog:\n",
    "    \n",
    "    def __init__(self,name,age,breed):\n",
    "        self.name=name\n",
    "        self.age=age\n",
    "        self.breed=breed\n",
    "    \n",
    "    def bark(self):\n",
    "        return \"Dog is barking\"\n",
    "\n",
    "    def sleep(self):\n",
    "        return \"Dog is sleeping\"\n",
    "\n",
    "d1=Dog(\"Jacky\",3,\"country\")\n",
    "print(d1.name)\n",
    "print(d1.age)\n",
    "print(d1.breed)\n",
    "print(d1.bark())\n",
    "print(d1.sleep()) "
   ]
  },
  {
   "cell_type": "code",
   "execution_count": 30,
   "id": "7017dfeb-7dd5-43c2-ac37-ed6ea8a494fc",
   "metadata": {
    "scrolled": true
   },
   "outputs": [
    {
     "name": "stdout",
     "output_type": "stream",
     "text": [
      "Jacky\n",
      "3\n",
      "country\n",
      "Dog is barking\n",
      "Dog is sleeping\n",
      "tom\n",
      "puppy is weeping\n",
      "puppy is playing\n"
     ]
    }
   ],
   "source": [
    "class Dog:\n",
    "    \n",
    "    def __init__(self,name,age,breed):\n",
    "        self.name=name\n",
    "        self.age=age\n",
    "        self.breed=breed\n",
    "    \n",
    "    def bark(self):\n",
    "        return \"Dog is barking\"\n",
    "\n",
    "    def sleep(self):\n",
    "        return \"Dog is sleeping\"\n",
    "\n",
    "d1=Dog(\"Jacky\",3,\"country\")\n",
    "print(d1.name)\n",
    "print(d1.age)\n",
    "print(d1.breed)\n",
    "print(d1.bark())\n",
    "print(d1.sleep()) \n",
    "\n",
    "class puppy(Dog):\n",
    "    def weep(self):\n",
    "        return \"puppy is weeping\"\n",
    "\n",
    "    def play(self):\n",
    "        return \"puppy is playing\"\n",
    "\n",
    "d2=puppy(\"tom\",1,\"gold\")\n",
    "print(d2.name)\n",
    "print(d2.weep())\n",
    "print(d2.play())\n",
    "\n",
    "\n",
    "    \n",
    "    "
   ]
  },
  {
   "cell_type": "code",
   "execution_count": 37,
   "id": "afedd9ec-79db-402e-8417-6b7f5037113a",
   "metadata": {},
   "outputs": [
    {
     "name": "stdout",
     "output_type": "stream",
     "text": [
      "Dog is barking\n",
      "Dog is sleeping\n",
      "cat is meowing\n",
      "cat is puring\n",
      "Hybrid is speaking.\n"
     ]
    }
   ],
   "source": [
    "\n",
    "class Dog:\n",
    "    \n",
    "    def bark(self):\n",
    "        return \"Dog is barking\"\n",
    "\n",
    "    def sleep(self):\n",
    "        return \"Dog is sleeping\"\n",
    "class Cat:\n",
    "    def meow(self):\n",
    "        return \"cat is meowing\"\n",
    "    def purr(self):\n",
    "        return \"cat is puring\"\n",
    "\n",
    "class Hybrid(Dog, Cat):\n",
    "    def speak(self):\n",
    "        return \"Hybrid is speaking.\"\n",
    "       \n",
    "   \n",
    "hybrid = Hybrid()\n",
    "\n",
    "\n",
    "print(hybrid.bark())   \n",
    "print(hybrid.sleep())  \n",
    "print(hybrid.meow())   \n",
    "print(hybrid.purr())   \n",
    "print(hybrid.speak())  \n"
   ]
  },
  {
   "cell_type": "code",
   "execution_count": 11,
   "id": "3e7bf055-4ddc-43f9-893c-2b10e0ebb0a9",
   "metadata": {},
   "outputs": [
    {
     "ename": "TypeError",
     "evalue": "Robot() takes no arguments",
     "output_type": "error",
     "traceback": [
      "\u001b[1;31m---------------------------------------------------------------------------\u001b[0m",
      "\u001b[1;31mTypeError\u001b[0m                                 Traceback (most recent call last)",
      "Cell \u001b[1;32mIn[11], line 14\u001b[0m\n\u001b[0;32m     11\u001b[0m         \u001b[38;5;28mself\u001b[39m\u001b[38;5;241m.\u001b[39m__energy_level \u001b[38;5;241m+\u001b[39m\u001b[38;5;241m=\u001b[39m amount\n\u001b[0;32m     12\u001b[0m         \u001b[38;5;28;01mreturn\u001b[39;00m \u001b[38;5;124mf\u001b[39m\u001b[38;5;124m\"\u001b[39m\u001b[38;5;124mCharged! Current energy level: \u001b[39m\u001b[38;5;132;01m{\u001b[39;00m\u001b[38;5;28mself\u001b[39m\u001b[38;5;241m.\u001b[39m__energy_level\u001b[38;5;132;01m}\u001b[39;00m\u001b[38;5;124m\"\u001b[39m\n\u001b[1;32m---> 14\u001b[0m robot \u001b[38;5;241m=\u001b[39m Robot(\u001b[38;5;124m'\u001b[39m\u001b[38;5;124mModel-X\u001b[39m\u001b[38;5;124m'\u001b[39m, \u001b[38;5;241m50\u001b[39m)\n\u001b[0;32m     16\u001b[0m \u001b[38;5;28mprint\u001b[39m(robot\u001b[38;5;241m.\u001b[39mget_energy())          \n\u001b[0;32m     17\u001b[0m robot\u001b[38;5;241m.\u001b[39mset_energy(\u001b[38;5;241m75\u001b[39m)\n",
      "\u001b[1;31mTypeError\u001b[0m: Robot() takes no arguments"
     ]
    }
   ],
   "source": [
    "class Robot:\n",
    "    def _init_(self, model, energy_level):\n",
    "        self._model = model        \n",
    "        self.__energy_level = energy_level    \n",
    "    def get_energy(self):\n",
    "        return self.__energy_level\n",
    "    def set_energy(self, energy):\n",
    "        self.__energy_level = energy\n",
    "\n",
    "    def charge(self, amount):\n",
    "        self.__energy_level += amount\n",
    "        return f\"Charged! Current energy level: {self.__energy_level}\"\n",
    "\n",
    "robot = Robot('Model-X', 50)\n",
    "\n",
    "print(robot.get_energy())          \n",
    "robot.set_energy(75)\n",
    "print(robot.get_energy())         \n",
    "try:\n",
    "    print(robot.__energy_level)   \n",
    "except AttributeError as e:\n",
    "    print(e)\n",
    "print(robot.charge(25))"
   ]
  },
  {
   "cell_type": "code",
   "execution_count": null,
   "id": "77fde5d0-7302-4ca1-a6d2-21b5b8eb30cd",
   "metadata": {},
   "outputs": [],
   "source": []
  }
 ],
 "metadata": {
  "kernelspec": {
   "display_name": "Python 3 (ipykernel)",
   "language": "python",
   "name": "python3"
  },
  "language_info": {
   "codemirror_mode": {
    "name": "ipython",
    "version": 3
   },
   "file_extension": ".py",
   "mimetype": "text/x-python",
   "name": "python",
   "nbconvert_exporter": "python",
   "pygments_lexer": "ipython3",
   "version": "3.11.7"
  }
 },
 "nbformat": 4,
 "nbformat_minor": 5
}
